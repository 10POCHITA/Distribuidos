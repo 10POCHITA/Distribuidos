{
  "nbformat": 4,
  "nbformat_minor": 0,
  "metadata": {
    "colab": {
      "provenance": [],
      "include_colab_link": true
    },
    "kernelspec": {
      "name": "python3",
      "display_name": "Python 3"
    },
    "language_info": {
      "name": "python"
    }
  },
  "cells": [
    {
      "cell_type": "markdown",
      "metadata": {
        "id": "view-in-github",
        "colab_type": "text"
      },
      "source": [
        "<a href=\"https://colab.research.google.com/github/10POCHITA/Distribuidos/blob/main/nodos__infectados.ipynb\" target=\"_parent\"><img src=\"https://colab.research.google.com/assets/colab-badge.svg\" alt=\"Open In Colab\"/></a>"
      ]
    },
    {
      "cell_type": "markdown",
      "source": [
        "Enfoque Push"
      ],
      "metadata": {
        "id": "E7zuWLSL3fKu"
      }
    },
    {
      "cell_type": "code",
      "execution_count": 4,
      "metadata": {
        "id": "_zLP42I4kvN5",
        "colab": {
          "base_uri": "https://localhost:8080/"
        },
        "outputId": "42386d1a-1a84-47b2-840e-0935f33dfd49"
      },
      "outputs": [
        {
          "output_type": "stream",
          "name": "stdout",
          "text": [
            "\n",
            "Interacción 1\n",
            "Infectados: 1\n",
            "Suceptibles: 99\n",
            "\n",
            "Interacción 2\n",
            "Infectados: 5\n",
            "Suceptibles: 95\n",
            "\n",
            "Interacción 3\n",
            "Infectados: 17\n",
            "Suceptibles: 83\n",
            "\n",
            "Interacción 4\n",
            "Infectados: 35\n",
            "Suceptibles: 65\n",
            "\n",
            "Interacción 5\n",
            "Infectados: 55\n",
            "Suceptibles: 45\n",
            "\n",
            "Interacción 6\n",
            "Infectados: 84\n",
            "Suceptibles: 16\n",
            "\n",
            "Interacción 7\n",
            "Infectados: 92\n",
            "Suceptibles: 8\n",
            "\n",
            "Interacción 8\n",
            "Infectados: 97\n",
            "Suceptibles: 3\n",
            "\n",
            "Interacción 9\n",
            "Infectados: 98\n",
            "Suceptibles: 2\n",
            "\n",
            "Interacción 10\n",
            "Infectados: 98\n",
            "Suceptibles: 2\n"
          ]
        }
      ],
      "source": [
        "import random\n",
        "\n",
        "class Node:\n",
        "    def __init__(self, infected=False):\n",
        "        self.infected = infected\n",
        "\n",
        "    def infect(self):\n",
        "        self.infected = True\n",
        "\n",
        "    def update(self, nodes):\n",
        "        if self.infected:\n",
        "            for node in nodes:\n",
        "                if random.random() < 1 / len(nodes):\n",
        "                    node.infect()\n",
        "\n",
        "def simulate(n):\n",
        "    nodes = [Node() for _ in range(n)]\n",
        "    nodes[0].infect()\n",
        "    for i in range(10):\n",
        "        print(f\"\\nInteracción {i+1}\")\n",
        "        print(f\"Infectados: {sum(n.infected for n in nodes)}\")\n",
        "        print(f\"Suceptibles: {n - sum(n.infected for n in nodes)}\")\n",
        "        for node in nodes:\n",
        "            node.update(nodes)\n",
        "\n",
        "simulate(100)"
      ]
    },
    {
      "cell_type": "markdown",
      "source": [
        "Enfoque pull"
      ],
      "metadata": {
        "id": "Box1TGY13Z5X"
      }
    },
    {
      "cell_type": "code",
      "source": [
        "import random\n",
        "\n",
        "class Node:\n",
        "    def __init__(self, infected=False):\n",
        "        self.infected = infected\n",
        "\n",
        "    def infect(self):\n",
        "        self.infected = True\n",
        "\n",
        "    def update(self, nodes):\n",
        "        if not self.infected:\n",
        "            for node in nodes:\n",
        "                if node.infected and random.random() < 1 / len(nodes):\n",
        "                    self.infect()\n",
        "\n",
        "def simulate(n):\n",
        "    nodes = [Node() for _ in range(n)]\n",
        "    nodes[0].infect()\n",
        "    for i in range(10):\n",
        "        print(f\"\\nInteracción {i+1}\")\n",
        "        print(f\"Infectados: {sum(n.infected for n in nodes)}\")\n",
        "        print(f\"Suceptibles: {n - sum(n.infected for n in nodes)}\")\n",
        "        for node in nodes:\n",
        "            node.update(nodes)\n",
        "\n",
        "simulate(100)"
      ],
      "metadata": {
        "colab": {
          "base_uri": "https://localhost:8080/"
        },
        "id": "nJzktMM7ybWo",
        "outputId": "c7e602a5-ffa4-4c06-9488-9c3753be7746"
      },
      "execution_count": 6,
      "outputs": [
        {
          "output_type": "stream",
          "name": "stdout",
          "text": [
            "\n",
            "Interacción 1\n",
            "Infectados: 1\n",
            "Suceptibles: 99\n",
            "\n",
            "Interacción 2\n",
            "Infectados: 2\n",
            "Suceptibles: 98\n",
            "\n",
            "Interacción 3\n",
            "Infectados: 10\n",
            "Suceptibles: 90\n",
            "\n",
            "Interacción 4\n",
            "Infectados: 28\n",
            "Suceptibles: 72\n",
            "\n",
            "Interacción 5\n",
            "Infectados: 58\n",
            "Suceptibles: 42\n",
            "\n",
            "Interacción 6\n",
            "Infectados: 73\n",
            "Suceptibles: 27\n",
            "\n",
            "Interacción 7\n",
            "Infectados: 90\n",
            "Suceptibles: 10\n",
            "\n",
            "Interacción 8\n",
            "Infectados: 98\n",
            "Suceptibles: 2\n",
            "\n",
            "Interacción 9\n",
            "Infectados: 100\n",
            "Suceptibles: 0\n",
            "\n",
            "Interacción 10\n",
            "Infectados: 100\n",
            "Suceptibles: 0\n"
          ]
        }
      ]
    },
    {
      "cell_type": "code",
      "source": [],
      "metadata": {
        "id": "ss8Fez1S7m7R"
      },
      "execution_count": null,
      "outputs": []
    },
    {
      "cell_type": "markdown",
      "source": [
        "Enfoque pull-push"
      ],
      "metadata": {
        "id": "0eXNRaNo3oZo"
      }
    },
    {
      "cell_type": "code",
      "source": [
        "import random\n",
        "\n",
        "class Node:\n",
        "    def __init__(self, infected=False):\n",
        "        self.infected = infected\n",
        "\n",
        "    def infect(self):\n",
        "        self.infected = True\n",
        "\n",
        "    def pull_update(self, nodes):\n",
        "        infected_neighbors = [n for n in nodes if n.infected and n is not self]\n",
        "        if infected_neighbors:\n",
        "            self.infect()\n",
        "\n",
        "    def push_update(self, nodes):\n",
        "        if self.infected:\n",
        "            susceptible_nodes = [n for n in nodes if not n.infected and n is not self]\n",
        "            if susceptible_nodes:\n",
        "                susceptible_node = random.choice(susceptible_nodes)\n",
        "                susceptible_node.infect()\n",
        "\n",
        "def simulate(n):\n",
        "    nodes = [Node(i==0) for i in range(n)]\n",
        "    for i in range(10):\n",
        "        print(f\"\\nInteracción {i+1}\")\n",
        "        print(f\"Infectados: {sum(n.infected for n in nodes)}\")\n",
        "        print(f\"Suceptibles: {n - sum(n.infected for n in nodes)}\")\n",
        "        for node in nodes:\n",
        "            node.pull_update(nodes)\n",
        "            if node.infected:\n",
        "                node.push_update(nodes)\n",
        "\n",
        "simulate(100)"
      ],
      "metadata": {
        "id": "-8X7r9CNzI6J",
        "colab": {
          "base_uri": "https://localhost:8080/"
        },
        "outputId": "0a5ab5aa-9f8d-4426-e639-431df2ad509e"
      },
      "execution_count": 10,
      "outputs": [
        {
          "output_type": "stream",
          "name": "stdout",
          "text": [
            "\n",
            "Interacción 1\n",
            "Infectados: 1\n",
            "Suceptibles: 99\n",
            "\n",
            "Interacción 2\n",
            "Infectados: 100\n",
            "Suceptibles: 0\n",
            "\n",
            "Interacción 3\n",
            "Infectados: 100\n",
            "Suceptibles: 0\n",
            "\n",
            "Interacción 4\n",
            "Infectados: 100\n",
            "Suceptibles: 0\n",
            "\n",
            "Interacción 5\n",
            "Infectados: 100\n",
            "Suceptibles: 0\n",
            "\n",
            "Interacción 6\n",
            "Infectados: 100\n",
            "Suceptibles: 0\n",
            "\n",
            "Interacción 7\n",
            "Infectados: 100\n",
            "Suceptibles: 0\n",
            "\n",
            "Interacción 8\n",
            "Infectados: 100\n",
            "Suceptibles: 0\n",
            "\n",
            "Interacción 9\n",
            "Infectados: 100\n",
            "Suceptibles: 0\n",
            "\n",
            "Interacción 10\n",
            "Infectados: 100\n",
            "Suceptibles: 0\n"
          ]
        }
      ]
    },
    {
      "cell_type": "code",
      "source": [],
      "metadata": {
        "id": "AEF75pd81M-C"
      },
      "execution_count": null,
      "outputs": []
    }
  ]
}
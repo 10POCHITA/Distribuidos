{
  "nbformat": 4,
  "nbformat_minor": 0,
  "metadata": {
    "colab": {
      "provenance": [],
      "include_colab_link": true
    },
    "kernelspec": {
      "name": "python3",
      "display_name": "Python 3"
    },
    "language_info": {
      "name": "python"
    }
  },
  "cells": [
    {
      "cell_type": "markdown",
      "metadata": {
        "id": "view-in-github",
        "colab_type": "text"
      },
      "source": [
        "<a href=\"https://colab.research.google.com/github/10POCHITA/Distribuidos/blob/main/nodos__infectados.ipynb\" target=\"_parent\"><img src=\"https://colab.research.google.com/assets/colab-badge.svg\" alt=\"Open In Colab\"/></a>"
      ]
    },
    {
      "cell_type": "markdown",
      "source": [
        "Enfoque Push"
      ],
      "metadata": {
        "id": "E7zuWLSL3fKu"
      }
    },
    {
      "cell_type": "code",
      "execution_count": 4,
      "metadata": {
        "id": "_zLP42I4kvN5",
        "colab": {
          "base_uri": "https://localhost:8080/"
        },
        "outputId": "42386d1a-1a84-47b2-840e-0935f33dfd49"
      },
      "outputs": [
        {
          "output_type": "stream",
          "name": "stdout",
          "text": [
            "\n",
            "Interacción 1\n",
            "Infectados: 1\n",
            "Suceptibles: 99\n",
            "\n",
            "Interacción 2\n",
            "Infectados: 5\n",
            "Suceptibles: 95\n",
            "\n",
            "Interacción 3\n",
            "Infectados: 17\n",
            "Suceptibles: 83\n",
            "\n",
            "Interacción 4\n",
            "Infectados: 35\n",
            "Suceptibles: 65\n",
            "\n",
            "Interacción 5\n",
            "Infectados: 55\n",
            "Suceptibles: 45\n",
            "\n",
            "Interacción 6\n",
            "Infectados: 84\n",
            "Suceptibles: 16\n",
            "\n",
            "Interacción 7\n",
            "Infectados: 92\n",
            "Suceptibles: 8\n",
            "\n",
            "Interacción 8\n",
            "Infectados: 97\n",
            "Suceptibles: 3\n",
            "\n",
            "Interacción 9\n",
            "Infectados: 98\n",
            "Suceptibles: 2\n",
            "\n",
            "Interacción 10\n",
            "Infectados: 98\n",
            "Suceptibles: 2\n"
          ]
        }
      ],
      "source": [
        "import random\n",
        "\n",
        "class Node:\n",
        "    def __init__(self, infected=False):\n",
        "        self.infected = infected\n",
        "\n",
        "    def infect(self):\n",
        "        self.infected = True\n",
        "\n",
        "    def update(self, nodes):\n",
        "        if self.infected:\n",
        "            for node in nodes:\n",
        "                if random.random() < 1 / len(nodes):\n",
        "                    node.infect()\n",
        "\n",
        "def simulate(n):\n",
        "    nodes = [Node() for _ in range(n)]\n",
        "    nodes[0].infect()\n",
        "    for i in range(10):\n",
        "        print(f\"\\nInteracción {i+1}\")\n",
        "        print(f\"Infectados: {sum(n.infected for n in nodes)}\")\n",
        "        print(f\"Suceptibles: {n - sum(n.infected for n in nodes)}\")\n",
        "        for node in nodes:\n",
        "            node.update(nodes)\n",
        "\n",
        "simulate(100)"
      ]
    },
    {
      "cell_type": "markdown",
      "source": [
        "Enfoque pull"
      ],
      "metadata": {
        "id": "Box1TGY13Z5X"
      }
    },
    {
      "cell_type": "code",
      "source": [
        "import random\n",
        "\n",
        "class Node:\n",
        "    def __init__(self, infected=False):\n",
        "        self.infected = infected\n",
        "\n",
        "    def infect(self):\n",
        "        self.infected = True\n",
        "\n",
        "    def update(self, nodes):\n",
        "        if self.infected:\n",
        "            for node in nodes:\n",
        "                if random.random() < 1 / len(nodes):\n",
        "                    node.infect()\n",
        "\n",
        "def simulate(n):\n",
        "    nodes = [Node(i==0) for i in range(n)]\n",
        "    for i in range(10):\n",
        "        print(f\"\\nInteracción {i+1}\")\n",
        "        print(f\"Infectados: {sum(n.infected for n in nodes)}\")\n",
        "        print(f\"Suceptibles: {n - sum(n.infected for n in nodes)}\")\n",
        "        for node in nodes:\n",
        "            node.update(nodes)\n",
        "\n",
        "simulate(100)"
      ],
      "metadata": {
        "colab": {
          "base_uri": "https://localhost:8080/"
        },
        "id": "nJzktMM7ybWo",
        "outputId": "30ea64cb-d164-4419-e8ec-61388f0194ff"
      },
      "execution_count": 5,
      "outputs": [
        {
          "output_type": "stream",
          "name": "stdout",
          "text": [
            "\n",
            "Interacción 1\n",
            "Infectados: 1\n",
            "Suceptibles: 99\n",
            "\n",
            "Interacción 2\n",
            "Infectados: 7\n",
            "Suceptibles: 93\n",
            "\n",
            "Interacción 3\n",
            "Infectados: 14\n",
            "Suceptibles: 86\n",
            "\n",
            "Interacción 4\n",
            "Infectados: 24\n",
            "Suceptibles: 76\n",
            "\n",
            "Interacción 5\n",
            "Infectados: 53\n",
            "Suceptibles: 47\n",
            "\n",
            "Interacción 6\n",
            "Infectados: 80\n",
            "Suceptibles: 20\n",
            "\n",
            "Interacción 7\n",
            "Infectados: 92\n",
            "Suceptibles: 8\n",
            "\n",
            "Interacción 8\n",
            "Infectados: 97\n",
            "Suceptibles: 3\n",
            "\n",
            "Interacción 9\n",
            "Infectados: 98\n",
            "Suceptibles: 2\n",
            "\n",
            "Interacción 10\n",
            "Infectados: 99\n",
            "Suceptibles: 1\n"
          ]
        }
      ]
    },
    {
      "cell_type": "code",
      "source": [],
      "metadata": {
        "id": "ss8Fez1S7m7R"
      },
      "execution_count": null,
      "outputs": []
    },
    {
      "cell_type": "markdown",
      "source": [
        "Enfoque pull-push"
      ],
      "metadata": {
        "id": "0eXNRaNo3oZo"
      }
    },
    {
      "cell_type": "code",
      "source": [
        "import random\n",
        "\n",
        "class Node:\n",
        "    def __init__(self, infected=False):\n",
        "        self.infected = infected\n",
        "\n",
        "    def infect(self):\n",
        "        self.infected = True\n",
        "\n",
        "    def update(self, nodes):\n",
        "        if not self.infected:\n",
        "            infected_nodes = [n for n in nodes if n.infected]\n",
        "            if infected_nodes:\n",
        "                susceptible_node = random.choice(nodes)\n",
        "                if susceptible_node not in infected_nodes:\n",
        "                    susceptible_node.infect()\n",
        "        if self.infected:\n",
        "            susceptible_nodes = [n for n in nodes if not n.infected]\n",
        "            if susceptible_nodes:\n",
        "                susceptible_node = random.choice(susceptible_nodes)\n",
        "                susceptible_node.infect()\n",
        "\n",
        "def simulate(n):\n",
        "    nodes = [Node(i==0) for i in range(n)]\n",
        "    for i in range(10):\n",
        "        print(f\"\\nInteracción {i+1}\")\n",
        "        print(f\"Infectados: {sum(n.infected for n in nodes)}\")\n",
        "        print(f\"Suceptibles: {n - sum(n.infected for n in nodes)}\")\n",
        "        for node in nodes:\n",
        "            node.update(nodes)\n",
        "\n",
        "simulate(100)"
      ],
      "metadata": {
        "id": "-8X7r9CNzI6J",
        "colab": {
          "base_uri": "https://localhost:8080/"
        },
        "outputId": "4fa821a9-8ac2-4240-9294-081ef56f4ae4"
      },
      "execution_count": null,
      "outputs": [
        {
          "output_type": "stream",
          "name": "stdout",
          "text": [
            "\n",
            "Interacción 1\n",
            "Infectados: 1\n",
            "Suceptibles: 99\n",
            "\n",
            "Interacción 2\n",
            "Infectados: 84\n",
            "Suceptibles: 16\n",
            "\n",
            "Interacción 3\n",
            "Infectados: 100\n",
            "Suceptibles: 0\n",
            "\n",
            "Interacción 4\n",
            "Infectados: 100\n",
            "Suceptibles: 0\n",
            "\n",
            "Interacción 5\n",
            "Infectados: 100\n",
            "Suceptibles: 0\n",
            "\n",
            "Interacción 6\n",
            "Infectados: 100\n",
            "Suceptibles: 0\n",
            "\n",
            "Interacción 7\n",
            "Infectados: 100\n",
            "Suceptibles: 0\n",
            "\n",
            "Interacción 8\n",
            "Infectados: 100\n",
            "Suceptibles: 0\n",
            "\n",
            "Interacción 9\n",
            "Infectados: 100\n",
            "Suceptibles: 0\n",
            "\n",
            "Interacción 10\n",
            "Infectados: 100\n",
            "Suceptibles: 0\n"
          ]
        }
      ]
    },
    {
      "cell_type": "code",
      "source": [],
      "metadata": {
        "id": "AEF75pd81M-C"
      },
      "execution_count": null,
      "outputs": []
    }
  ]
}